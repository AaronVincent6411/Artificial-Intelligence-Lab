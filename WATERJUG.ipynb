{
 "cells": [
  {
   "cell_type": "code",
   "execution_count": 3,
   "metadata": {},
   "outputs": [],
   "source": [
    "from collections import defaultdict\n",
    "visited = defaultdict(lambda:False)"
   ]
  },
  {
   "cell_type": "code",
   "execution_count": 4,
   "metadata": {},
   "outputs": [],
   "source": [
    "jug1 = int(input('Enter the capacity of jug1:'))\n",
    "jug2 = int(input('Enter the capacity of jug2:'))\n",
    "target = int(input('Enter the target:'))"
   ]
  },
  {
   "cell_type": "code",
   "execution_count": 5,
   "metadata": {},
   "outputs": [
    {
     "name": "stdout",
     "output_type": "stream",
     "text": [
      "The steps are:\n",
      "0 0\n",
      "3 0\n",
      "3 4\n",
      "0 4\n",
      "3 1\n",
      "0 1\n",
      "1 0\n",
      "1 4\n",
      "3 2\n",
      "0 2\n",
      "2 0\n",
      "Target reached\n"
     ]
    },
    {
     "data": {
      "text/plain": [
       "True"
      ]
     },
     "execution_count": 5,
     "metadata": {},
     "output_type": "execute_result"
    }
   ],
   "source": [
    "print('The steps are:')\n",
    "def waterjug(a,b):\n",
    "    if a == target:\n",
    "        print(a,b)\n",
    "        print('Target reached')\n",
    "        return True\n",
    "    if visited[(a,b)] == False:\n",
    "        print(a,b)\n",
    "        visited[(a,b)]=True\n",
    "        return (waterjug(0,b) or \n",
    "            waterjug(a,0) or\n",
    "            waterjug(jug1,b) or\n",
    "            waterjug(a,jug2) or\n",
    "            waterjug(a + min(b,(jug1-a)), b-min(b,(jug1-a))) or\n",
    "            waterjug(a - min(a,(jug2-b)), b-min(a,(jug2-b))))\n",
    "    \n",
    "    else:\n",
    "        return False\n",
    "\n",
    "waterjug(0,0)"
   ]
  }
 ],
 "metadata": {
  "kernelspec": {
   "display_name": "Python 3",
   "language": "python",
   "name": "python3"
  },
  "language_info": {
   "codemirror_mode": {
    "name": "ipython",
    "version": 3
   },
   "file_extension": ".py",
   "mimetype": "text/x-python",
   "name": "python",
   "nbconvert_exporter": "python",
   "pygments_lexer": "ipython3",
   "version": "3.10.9"
  },
  "orig_nbformat": 4,
  "vscode": {
   "interpreter": {
    "hash": "e7370f93d1d0cde622a1f8e1c04877d8463912d04d973331ad4851f04de6915a"
   }
  }
 },
 "nbformat": 4,
 "nbformat_minor": 2
}
