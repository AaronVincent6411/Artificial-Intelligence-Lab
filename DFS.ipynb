{
 "cells": [
  {
   "cell_type": "code",
   "execution_count": 3,
   "metadata": {},
   "outputs": [
    {
     "name": "stdout",
     "output_type": "stream",
     "text": [
      "DFS\n",
      "A B D E F C "
     ]
    }
   ],
   "source": [
    "graph = {\n",
    "  'A' : ['B','C'],\n",
    "  'B' : ['D', 'E'],\n",
    "  'C' : ['F'],\n",
    "  'D' : [],\n",
    "  'E' : ['F'],\n",
    "  'F' : []\n",
    "}\n",
    "\n",
    "explored = []\n",
    "frontier = []\n",
    "\n",
    "def dfs(explored, graph, node): \n",
    "    explored.append(node)\n",
    "    frontier.append(node)\n",
    "\n",
    "    while frontier:\n",
    "      s = frontier.pop() \n",
    "      print (s, end = \" \")\n",
    "\n",
    "      graph[s].reverse() \n",
    "\n",
    "      for neighbour in graph[s]:\n",
    "        if neighbour not in explored:\n",
    "          explored.append(neighbour)\n",
    "          frontier.append(neighbour)\n",
    "\n",
    "print(\"DFS\")\n",
    "dfs(explored, graph, 'A')"
   ]
  }
 ],
 "metadata": {
  "kernelspec": {
   "display_name": "Python 3.10.6 64-bit",
   "language": "python",
   "name": "python3"
  },
  "language_info": {
   "codemirror_mode": {
    "name": "ipython",
    "version": 3
   },
   "file_extension": ".py",
   "mimetype": "text/x-python",
   "name": "python",
   "nbconvert_exporter": "python",
   "pygments_lexer": "ipython3",
   "version": "3.10.9"
  },
  "orig_nbformat": 4,
  "vscode": {
   "interpreter": {
    "hash": "e7370f93d1d0cde622a1f8e1c04877d8463912d04d973331ad4851f04de6915a"
   }
  }
 },
 "nbformat": 4,
 "nbformat_minor": 2
}
