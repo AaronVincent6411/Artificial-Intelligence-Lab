{
 "cells": [
  {
   "cell_type": "code",
   "execution_count": 19,
   "metadata": {},
   "outputs": [
    {
     "name": "stdout",
     "output_type": "stream",
     "text": [
      "Target is reachable\n"
     ]
    }
   ],
   "source": [
    "from collections import defaultdict\n",
    "\n",
    "class Graph:\n",
    "    def __init__(self, vertices):\n",
    "        self.ver = vertices\n",
    "        self.graphlist = defaultdict(list)\n",
    "\n",
    "    def Edgeaddition(self, u, v):\n",
    "        self.graphlist[u].append(v)\n",
    "\n",
    "    def DLS(self, s, t, d):\n",
    "        if s==t:\n",
    "            return True\n",
    "        \n",
    "        if d<0:\n",
    "            return False\n",
    "\n",
    "        for i in self.graphlist[s]:\n",
    "            if(self.DLS(i, t, d-1)):\n",
    "                return True\n",
    "        return False\n",
    "\n",
    "    def IDDFS(self, s, t, d):\n",
    "        for i in range(d):\n",
    "            if(self.DLS(s, t, i)):\n",
    "                return True\n",
    "\n",
    "        return False\n",
    "\n",
    "tv = int(input('Enter value of total vertices:'))\n",
    "g = Graph(tv)\n",
    "\n",
    "for i in range(tv):\n",
    "    x = int(input('Enter value 1st:'))\n",
    "    y = int(input('Enter value 2nd:'))\n",
    "    g.Edgeaddition(x, y)\n",
    "\n",
    "s = int(input('Enter value of source point:'))\n",
    "t = int(input('Enter value of target point:'))\n",
    "d = int(input('Enter value of depth value:'))\n",
    "\n",
    "if g.IDDFS(s, t, d)==True:\n",
    "    for i in range(6):\n",
    "        d = int(input('Enter depth limit:'))\n",
    "        if g.IDDFS(s, t, d)==True:\n",
    "            print('Target is reachable')\n",
    "            break\n",
    "        else:\n",
    "            print('Target is not reachable')\n",
    "\n",
    "else:\n",
    "    print('Target is reachable within limit')"
   ]
  }
 ],
 "metadata": {
  "kernelspec": {
   "display_name": "Python 3.10.6 64-bit",
   "language": "python",
   "name": "python3"
  },
  "language_info": {
   "codemirror_mode": {
    "name": "ipython",
    "version": 3
   },
   "file_extension": ".py",
   "mimetype": "text/x-python",
   "name": "python",
   "nbconvert_exporter": "python",
   "pygments_lexer": "ipython3",
   "version": "3.10.6"
  },
  "orig_nbformat": 4,
  "vscode": {
   "interpreter": {
    "hash": "e7370f93d1d0cde622a1f8e1c04877d8463912d04d973331ad4851f04de6915a"
   }
  }
 },
 "nbformat": 4,
 "nbformat_minor": 2
}
