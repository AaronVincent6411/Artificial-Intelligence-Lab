{
 "cells": [
  {
   "cell_type": "code",
   "execution_count": 1,
   "metadata": {},
   "outputs": [
    {
     "name": "stdout",
     "output_type": "stream",
     "text": [
      "Node A  =  Green\n",
      "Node B  =  Blue\n",
      "Node C  =  Red\n",
      "Node D  =  Green\n",
      "Node E  =  Blue\n",
      "Node F  =  Red\n"
     ]
    }
   ],
   "source": [
    "nodes = {\n",
    "    'A': 0,\n",
    "    'B': 1,\n",
    "    'C': 2,\n",
    "    'D': 3,\n",
    "    'E': 4,\n",
    "    'F': 5\n",
    "}\n",
    "\n",
    "G = []\n",
    "G = [[ 0, 1, 1, 0, 1, 0],\n",
    "     [ 1, 0, 1, 1, 0, 1],\n",
    "     [ 1, 1, 0, 1, 1, 0],\n",
    "     [ 0, 1, 1, 0, 0, 1],\n",
    "     [ 1, 0, 1, 0, 0, 1],\n",
    "     [ 0, 1, 0, 1, 1, 0]]\n",
    "\n",
    "colorDict = {\n",
    "    'A':['Blue','Red','Green','Yellow'],\n",
    "    'B':['Blue','Red','Green','Yellow'],\n",
    "    'C':['Blue','Red','Green','Yellow'],\n",
    "    'D':['Blue','Red','Green','Yellow'],\n",
    "    'E':['Blue','Red','Green','Yellow'],\n",
    "    'F':['Blue','Red','Green','Yellow']\n",
    "}\n",
    "\n",
    "node = \"ABCDEF\"\n",
    "\n",
    "degree =[]\n",
    "for i in range(len(G)):\n",
    "  degree.append(sum(G[i]))\n",
    "\n",
    "sortedNode=[]\n",
    "index = []\n",
    "\n",
    "for i in range(len(degree)):\n",
    "  max = 0\n",
    "  j = 0\n",
    "  for j in range(len(degree)):\n",
    "    if j not in index:\n",
    "      if degree[j] > max:\n",
    "        max = degree[j]\n",
    "        idx = j\n",
    "  index.append(idx)\n",
    "  sortedNode.append(node[idx])\n",
    "\n",
    "theSolution={}\n",
    "for n in sortedNode:\n",
    "  setTheColor = colorDict[n]\n",
    "  theSolution[n] = setTheColor[0]\n",
    "  adjacentNode = G[nodes[n]]\n",
    "#  print(len(adjacentNode))\n",
    "#  print(theSolution[n])\n",
    "#  print(setTheColor)\n",
    "  for j in range(len(adjacentNode)):\n",
    "    if adjacentNode[j]==1 and (setTheColor[0] in colorDict[node[j]]):\n",
    "      colorDict[node[j]].remove(setTheColor[0])\n",
    "\n",
    "for t,w in sorted(theSolution.items()):\n",
    "  print(\"Node\",t,\" = \",w)"
   ]
  }
 ],
 "metadata": {
  "kernelspec": {
   "display_name": "Python 3.10.6 64-bit",
   "language": "python",
   "name": "python3"
  },
  "language_info": {
   "codemirror_mode": {
    "name": "ipython",
    "version": 3
   },
   "file_extension": ".py",
   "mimetype": "text/x-python",
   "name": "python",
   "nbconvert_exporter": "python",
   "pygments_lexer": "ipython3",
   "version": "3.10.9"
  },
  "orig_nbformat": 4,
  "vscode": {
   "interpreter": {
    "hash": "e7370f93d1d0cde622a1f8e1c04877d8463912d04d973331ad4851f04de6915a"
   }
  }
 },
 "nbformat": 4,
 "nbformat_minor": 2
}
