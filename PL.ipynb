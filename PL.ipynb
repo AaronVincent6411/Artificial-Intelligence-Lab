{
 "cells": [
  {
   "cell_type": "code",
   "execution_count": 3,
   "metadata": {},
   "outputs": [],
   "source": [
    "import pytholog as pl\n",
    "from sympy import *\n",
    "from sympy.logic.inference import satisfiable"
   ]
  },
  {
   "cell_type": "code",
   "execution_count": 4,
   "metadata": {},
   "outputs": [
    {
     "name": "stdout",
     "output_type": "stream",
     "text": [
      "hagrid & rain\n",
      "False\n",
      "{rain: True, hagrid: True}\n"
     ]
    }
   ],
   "source": [
    "rain = Symbol(\"rain\")\n",
    "hagrid = Symbol(\"hagrid\")  \n",
    "dumbledore = Symbol(\"dumbledore\")\n",
    "logical_sentence = And(rain, hagrid) \n",
    "print(logical_sentence)\n",
    "print(logical_sentence.subs({rain: True, hagrid: False}))\n",
    "print(satisfiable(logical_sentence))"
   ]
  },
  {
   "cell_type": "code",
   "execution_count": 5,
   "metadata": {},
   "outputs": [
    {
     "name": "stdout",
     "output_type": "stream",
     "text": [
      "Implies(~rain, hagrid)\n",
      "{hagrid: True, rain: True}\n"
     ]
    }
   ],
   "source": [
    "implication_logic = Implies(Not(rain), hagrid) \n",
    "print(implication_logic)\n",
    "print(satisfiable(implication_logic))"
   ]
  },
  {
   "cell_type": "code",
   "execution_count": 6,
   "metadata": {},
   "outputs": [
    {
     "name": "stdout",
     "output_type": "stream",
     "text": [
      "hagrid & (dumbledore | hagrid) & (Implies(~rain, hagrid)) & ~(dumbledore & hagrid)\n"
     ]
    }
   ],
   "source": [
    "knowledge_base = And(                   \n",
    "   Implies(Not(rain), hagrid),\n",
    "   Or(hagrid, dumbledore),\n",
    "   Not(And(hagrid, dumbledore)),\n",
    "   hagrid\n",
    ")\n",
    "print(knowledge_base)"
   ]
  },
  {
   "cell_type": "code",
   "execution_count": 7,
   "metadata": {},
   "outputs": [
    {
     "name": "stdout",
     "output_type": "stream",
     "text": [
      "{hagrid: True, rain: True, dumbledore: False}\n",
      "{hagrid: True, rain: False, dumbledore: False}\n"
     ]
    }
   ],
   "source": [
    "models = satisfiable(knowledge_base, all_models=True)\n",
    "for model in models:\n",
    "    print(model)"
   ]
  },
  {
   "cell_type": "code",
   "execution_count": 8,
   "metadata": {},
   "outputs": [
    {
     "name": "stdout",
     "output_type": "stream",
     "text": [
      "Implies(happy & ~rainy, play football)\n",
      "False\n"
     ]
    }
   ],
   "source": [
    "from sympy.logic.inference import valid\n",
    "p = Symbol(\"rainy\")\n",
    "q = Symbol(\"happy\")\n",
    "r = Symbol(\"play football\")\n",
    "p1 = Implies(And(Not(p),q),r)\n",
    "print(p1)\n",
    "print(valid(p1))"
   ]
  }
 ],
 "metadata": {
  "kernelspec": {
   "display_name": "Python 3",
   "language": "python",
   "name": "python3"
  },
  "language_info": {
   "codemirror_mode": {
    "name": "ipython",
    "version": 3
   },
   "file_extension": ".py",
   "mimetype": "text/x-python",
   "name": "python",
   "nbconvert_exporter": "python",
   "pygments_lexer": "ipython3",
   "version": "3.10.9"
  },
  "orig_nbformat": 4,
  "vscode": {
   "interpreter": {
    "hash": "e7370f93d1d0cde622a1f8e1c04877d8463912d04d973331ad4851f04de6915a"
   }
  }
 },
 "nbformat": 4,
 "nbformat_minor": 2
}
