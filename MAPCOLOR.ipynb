{
 "cells": [
  {
   "cell_type": "code",
   "execution_count": 2,
   "metadata": {},
   "outputs": [],
   "source": [
    "colors = ['Red','Blue','Green']\n",
    "states = ['Kerala','Karnataka', 'Tamil Nadu','Goa','Andra Pradesh']\n",
    "colors_of_state = {}"
   ]
  },
  {
   "cell_type": "code",
   "execution_count": 8,
   "metadata": {},
   "outputs": [],
   "source": [
    "neighbors = {}\n",
    "neighbors['Kerala']=['Karnataka', 'Tamil Nadu']\n",
    "neighbors['Karnataka']=['Kerala','Tamil Nadu','Goa','Andra Pradesh']\n",
    "neighbors['Goa']=['Karnataka']\n",
    "neighbors['Tamil Nadu']=['Karnataka', 'Kerala','Andra Pradesh']\n",
    "neighbors['Andra Pradesh']=['Karnataka','Tamil Nadu']"
   ]
  },
  {
   "cell_type": "code",
   "execution_count": 12,
   "metadata": {},
   "outputs": [],
   "source": [
    "def promising(state, color):\n",
    "    for neighbor in neighbors.get(state):\n",
    "        if colors_of_state.get(neighbor) == color:\n",
    "            return False\n",
    "    return True"
   ]
  },
  {
   "cell_type": "code",
   "execution_count": 13,
   "metadata": {},
   "outputs": [],
   "source": [
    "def color_state(state):\n",
    "    for color in colors:\n",
    "        if promising(state,color):\n",
    "            return color"
   ]
  },
  {
   "cell_type": "code",
   "execution_count": 14,
   "metadata": {},
   "outputs": [
    {
     "name": "stdout",
     "output_type": "stream",
     "text": [
      "{'Kerala': 'Red', 'Karnataka': 'Blue', 'Tamil Nadu': 'Green', 'Goa': 'Red', 'Andra Pradesh': 'Red'}\n"
     ]
    }
   ],
   "source": [
    "def main():\n",
    "    for state in states:\n",
    "        colors_of_state[state] = color_state(state)\n",
    "    print(colors_of_state)\n",
    "main()"
   ]
  }
 ],
 "metadata": {
  "kernelspec": {
   "display_name": "Python 3",
   "language": "python",
   "name": "python3"
  },
  "language_info": {
   "codemirror_mode": {
    "name": "ipython",
    "version": 3
   },
   "file_extension": ".py",
   "mimetype": "text/x-python",
   "name": "python",
   "nbconvert_exporter": "python",
   "pygments_lexer": "ipython3",
   "version": "3.10.9"
  },
  "orig_nbformat": 4,
  "vscode": {
   "interpreter": {
    "hash": "e7370f93d1d0cde622a1f8e1c04877d8463912d04d973331ad4851f04de6915a"
   }
  }
 },
 "nbformat": 4,
 "nbformat_minor": 2
}
